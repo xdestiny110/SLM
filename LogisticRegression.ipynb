{
 "cells": [
  {
   "cell_type": "code",
   "execution_count": 1,
   "metadata": {},
   "outputs": [],
   "source": [
    "#-*- coding:utf-8 -*-'\n",
    "import numpy as np\n",
    "import pandas as pd"
   ]
  },
  {
   "cell_type": "code",
   "execution_count": 3,
   "metadata": {},
   "outputs": [],
   "source": [
    "df = pd.read_csv('train_binary.csv')"
   ]
  },
  {
   "cell_type": "code",
   "execution_count": 4,
   "metadata": {},
   "outputs": [],
   "source": [
    "label = df.iloc[:,0].as_matrix()\n",
    "data = df.iloc[:,1:].as_matrix()\n",
    "data = np.insert(data, data.shape[1], 1.0, axis = 1)"
   ]
  },
  {
   "cell_type": "code",
   "execution_count": 13,
   "metadata": {},
   "outputs": [
    {
     "name": "stdout",
     "output_type": "stream",
     "text": [
      "train iter cnt = 10\n",
      "train iter cnt = 20\n",
      "train iter cnt = 30\n",
      "train iter cnt = 40\n",
      "train iter cnt = 50\n",
      "train iter cnt = 60\n",
      "train iter cnt = 70\n",
      "train iter cnt = 80\n",
      "train iter cnt = 90\n",
      "train iter cnt = 100\n",
      "train iter cnt = 110\n",
      "train iter cnt = 120\n",
      "train iter cnt = 130\n",
      "train iter cnt = 140\n",
      "train iter cnt = 150\n",
      "train iter cnt = 160\n",
      "train iter cnt = 170\n",
      "train iter cnt = 180\n",
      "train iter cnt = 190\n",
      "train iter cnt = 200\n",
      "train iter cnt = 210\n",
      "train iter cnt = 220\n",
      "train iter cnt = 230\n",
      "train iter cnt = 240\n",
      "train iter cnt = 250\n",
      "train iter cnt = 260\n",
      "train iter cnt = 270\n",
      "train iter cnt = 280\n",
      "train iter cnt = 290\n",
      "train iter cnt = 300\n",
      "train iter cnt = 310\n",
      "train iter cnt = 320\n",
      "train iter cnt = 330\n",
      "train iter cnt = 340\n",
      "train iter cnt = 350\n",
      "train iter cnt = 360\n",
      "train iter cnt = 370\n",
      "train iter cnt = 380\n",
      "train iter cnt = 390\n",
      "train iter cnt = 400\n",
      "train iter cnt = 410\n",
      "train iter cnt = 420\n",
      "train iter cnt = 430\n",
      "train iter cnt = 440\n",
      "train iter cnt = 450\n",
      "train iter cnt = 460\n",
      "train iter cnt = 470\n",
      "train iter cnt = 480\n",
      "train iter cnt = 490\n",
      "train iter cnt = 500\n",
      "train iter cnt = 510\n",
      "train iter cnt = 520\n",
      "train iter cnt = 530\n",
      "train iter cnt = 540\n",
      "train iter cnt = 550\n",
      "train iter cnt = 560\n",
      "train iter cnt = 570\n",
      "train iter cnt = 580\n",
      "train iter cnt = 590\n",
      "train iter cnt = 600\n",
      "train iter cnt = 610\n",
      "train iter cnt = 620\n",
      "train iter cnt = 630\n",
      "train iter cnt = 640\n",
      "train iter cnt = 650\n",
      "train iter cnt = 660\n",
      "train iter cnt = 670\n",
      "train iter cnt = 680\n",
      "train iter cnt = 690\n",
      "train iter cnt = 700\n",
      "train iter cnt = 710\n",
      "train iter cnt = 720\n",
      "train iter cnt = 730\n",
      "train iter cnt = 740\n",
      "train iter cnt = 750\n",
      "train iter cnt = 760\n",
      "train iter cnt = 770\n",
      "train iter cnt = 780\n",
      "train iter cnt = 790\n",
      "train iter cnt = 800\n",
      "train iter cnt = 810\n",
      "train iter cnt = 820\n",
      "train iter cnt = 830\n",
      "train iter cnt = 840\n",
      "train iter cnt = 850\n",
      "train iter cnt = 860\n",
      "train iter cnt = 870\n",
      "train iter cnt = 880\n",
      "train iter cnt = 890\n",
      "train iter cnt = 900\n",
      "train iter cnt = 910\n",
      "train iter cnt = 920\n",
      "train iter cnt = 930\n",
      "train iter cnt = 940\n",
      "train iter cnt = 950\n",
      "train iter cnt = 960\n",
      "train iter cnt = 970\n",
      "train iter cnt = 980\n",
      "train iter cnt = 990\n",
      "train iter cnt = 1000\n"
     ]
    }
   ],
   "source": [
    "w = np.zeros(data.shape[1])\n",
    "lr = 1e-6 # 学习率,不能太大，否则爆炸\n",
    "max_iter_cnt = 1000 # 最大训练次数\n",
    "iter_cnt = 1\n",
    "while iter_cnt < max_iter_cnt:\n",
    "    # 随机梯度下降训练\n",
    "    idx = int(np.random.rand(1)*data.shape[0])\n",
    "    x = data[idx,:]\n",
    "    y = label[idx]\n",
    "    \n",
    "    wx = np.exp(np.dot(w,x))\n",
    "    p1 = wx/(wx+1)\n",
    "    p0 = 1/(wx+1)\n",
    "    predict = 1 if p1 > p0 else 0\n",
    "    # 确认预测是否正确\n",
    "    if predict == y:\n",
    "        continue\n",
    "    dw = x*(y-p1)\n",
    "    w += lr*dw\n",
    "    iter_cnt+=1\n",
    "    if iter_cnt % 10 == 0:\n",
    "        print('train iter cnt = %d'%(iter_cnt))"
   ]
  },
  {
   "cell_type": "code",
   "execution_count": 25,
   "metadata": {},
   "outputs": [
    {
     "name": "stdout",
     "output_type": "stream",
     "text": [
      "[1 0 1 ... 1 1 1]\n"
     ]
    }
   ],
   "source": [
    "# 输出学习正确率\n",
    "wx_all = np.exp(np.dot(data,w))\n",
    "p1 = wx_all/(1+wx_all)\n",
    "p0 = 1/(1+wx_all)\n",
    "train_label = np.array(p1 > p0).astype('int')"
   ]
  }
 ],
 "metadata": {
  "kernelspec": {
   "display_name": "Python 3",
   "language": "python",
   "name": "python3"
  },
  "language_info": {
   "codemirror_mode": {
    "name": "ipython",
    "version": 3
   },
   "file_extension": ".py",
   "mimetype": "text/x-python",
   "name": "python",
   "nbconvert_exporter": "python",
   "pygments_lexer": "ipython3",
   "version": "3.6.4"
  }
 },
 "nbformat": 4,
 "nbformat_minor": 2
}
