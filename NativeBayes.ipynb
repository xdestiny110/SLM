{
 "cells": [
  {
   "cell_type": "code",
   "execution_count": 1,
   "metadata": {},
   "outputs": [],
   "source": [
    "#-*- coding:utf-8 -*-'\n",
    "import numpy as np"
   ]
  },
  {
   "cell_type": "code",
   "execution_count": 36,
   "metadata": {},
   "outputs": [],
   "source": [
    "data = np.array([[0,0],[0,1],[0,1],[0,0],[0,0],[1,0],[1,1],[1,1],[1,2],[1,2],[2,2],[2,1],[2,1],[2,2],[2,2]])\n",
    "label = np.array([-1,-1,1,1,-1,-1,-1,1,1,1,1,1,1,1,-1])\n",
    "data1_cnt = 3 #第一个特征可能得取值个数\n",
    "data2_cnt = 3\n",
    "label_cnt = 2 #标签可能得取值个数"
   ]
  },
  {
   "cell_type": "code",
   "execution_count": 45,
   "metadata": {},
   "outputs": [],
   "source": [
    "#平滑系数\n",
    "l = 0\n",
    "#先验频率\n",
    "P_pre = np.zeros(label_cnt)\n",
    "P_pre[0] = np.count_nonzero(label[label>0])/data.shape[0]\n",
    "P_pre[1] = np.count_nonzero(label[label<0])/data.shape[0]\n",
    "#条件概率\n",
    "P_cond = np.zeros((data1_cnt+data2_cnt)*label_cnt)\n",
    "P_cond[0] = data[(label>0) & (data[:,0] == 0)].shape[0]/data.shape[0]/P_pre[0]\n",
    "P_cond[1] = data[(label>0) & (data[:,0] == 1)].shape[0]/data.shape[0]/P_pre[0]\n",
    "P_cond[2] = data[(label>0) & (data[:,0] == 2)].shape[0]/data.shape[0]/P_pre[0]\n",
    "P_cond[3] = data[(label<0) & (data[:,0] == 0)].shape[0]/data.shape[0]/P_pre[1]\n",
    "P_cond[4] = data[(label<0) & (data[:,0] == 1)].shape[0]/data.shape[0]/P_pre[1]\n",
    "P_cond[5] = data[(label<0) & (data[:,0] == 2)].shape[0]/data.shape[0]/P_pre[1]\n",
    "P_cond[6] = data[(label>0) & (data[:,1] == 0)].shape[0]/data.shape[0]/P_pre[0]\n",
    "P_cond[7] = data[(label>0) & (data[:,1] == 1)].shape[0]/data.shape[0]/P_pre[0]\n",
    "P_cond[8] = data[(label>0) & (data[:,1] == 2)].shape[0]/data.shape[0]/P_pre[0]\n",
    "P_cond[9] = data[(label<0) & (data[:,1] == 0)].shape[0]/data.shape[0]/P_pre[1]\n",
    "P_cond[10] = data[(label<0) & (data[:,1] == 1)].shape[0]/data.shape[0]/P_pre[1]\n",
    "P_cond[11] = data[(label<0) & (data[:,1] == 2)].shape[0]/data.shape[0]/P_pre[1]"
   ]
  },
  {
   "cell_type": "code",
   "execution_count": 50,
   "metadata": {},
   "outputs": [
    {
     "name": "stdout",
     "output_type": "stream",
     "text": [
      "0.0222222222222\n",
      "0.0666666666667\n"
     ]
    }
   ],
   "source": [
    "# 待求后验概率\n",
    "d = np.array([1,0])\n",
    "predict1 = P_pre[0]*P_cond[1]*P_cond[6]\n",
    "predict2 = P_pre[1]*P_cond[4]*P_cond[9]\n",
    "print(predict1)\n",
    "print(predict2)"
   ]
  },
  {
   "cell_type": "code",
   "execution_count": null,
   "metadata": {},
   "outputs": [],
   "source": []
  }
 ],
 "metadata": {
  "kernelspec": {
   "display_name": "Python 3.6",
   "language": "python",
   "name": "py36"
  },
  "language_info": {
   "codemirror_mode": {
    "name": "ipython",
    "version": 3
   },
   "file_extension": ".py",
   "mimetype": "text/x-python",
   "name": "python",
   "nbconvert_exporter": "python",
   "pygments_lexer": "ipython3",
   "version": "3.6.4"
  }
 },
 "nbformat": 4,
 "nbformat_minor": 2
}
