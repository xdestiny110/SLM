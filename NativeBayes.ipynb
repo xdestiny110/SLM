{
 "cells": [
  {
   "cell_type": "code",
   "execution_count": 1,
   "metadata": {},
   "outputs": [],
   "source": [
    "#-*- coding:utf-8 -*-'\n",
    "import numpy as np\n",
    "import pandas as pd"
   ]
  },
  {
   "cell_type": "code",
   "execution_count": 2,
   "metadata": {},
   "outputs": [],
   "source": [
    "df = pd.DataFrame(pd.read_csv('NativeBayes.csv'))\n",
    "X2_map = {'S':0,'M':1,'L':2}\n",
    "label_map = {-1:0,1:1}\n",
    "df['X1'] -= 1\n",
    "df['X2'] = df['X2'].map(X2_map)\n",
    "df['Label'] = df['Label'].map(label_map)\n",
    "data = df.iloc[:,:-1].as_matrix()\n",
    "label = df.iloc[:,-1].as_matrix()\n",
    "data_cnts = [3, len(X2_map)] #各维特征值的取值个数\n",
    "label_cnt = len(label_map) #标签可能得取值个数"
   ]
  },
  {
   "cell_type": "code",
   "execution_count": 3,
   "metadata": {},
   "outputs": [],
   "source": [
    "#平滑系数\n",
    "alpha = 1\n",
    "#先验频率\n",
    "P_pre = []\n",
    "for i in range(label_cnt):\n",
    "    P_pre.append((len(label[label == i])+alpha)/(data.shape[0]+label_cnt*alpha))\n",
    "P_pre = np.array(P_pre)\n",
    "    \n",
    "#条件概率\n",
    "P_cond = []\n",
    "for i in range(label_cnt):\n",
    "    for j in range(len(data_cnts)):\n",
    "        for k in range(data_cnts[j]):\n",
    "            P_cond.append((alpha+data[(label == i) & (data[:,j] == k)].shape[0])/(len(label[label == i])+data_cnts[j]*alpha))\n",
    "P_cond = np.array(P_cond)"
   ]
  },
  {
   "cell_type": "code",
   "execution_count": 4,
   "metadata": {},
   "outputs": [
    {
     "name": "stdout",
     "output_type": "stream",
     "text": [
      "0\n",
      "[ 0.06100218  0.03267974]\n"
     ]
    }
   ],
   "source": [
    "# 待求后验概率 \n",
    "d = np.array([1,0])\n",
    "predict = np.array([0.0 for _ in range(label_cnt)])\n",
    "for i in range(label_cnt):\n",
    "    predict[i] = P_pre[i]\n",
    "    for j in range(len(d)):\n",
    "        predict[i] *= P_cond[int(d[j]+np.sum(data_cnts[0:j])+np.sum(data_cnts)*i)]\n",
    "print(np.argmax(predict))\n",
    "print(predict)"
   ]
  },
  {
   "cell_type": "code",
   "execution_count": null,
   "metadata": {},
   "outputs": [],
   "source": []
  }
 ],
 "metadata": {
  "kernelspec": {
   "display_name": "Python 3.6",
   "language": "python",
   "name": "py36"
  },
  "language_info": {
   "codemirror_mode": {
    "name": "ipython",
    "version": 3
   },
   "file_extension": ".py",
   "mimetype": "text/x-python",
   "name": "python",
   "nbconvert_exporter": "python",
   "pygments_lexer": "ipython3",
   "version": "3.6.4"
  }
 },
 "nbformat": 4,
 "nbformat_minor": 2
}
