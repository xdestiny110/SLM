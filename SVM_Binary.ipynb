{
 "cells": [
  {
   "cell_type": "code",
   "execution_count": 1,
   "metadata": {},
   "outputs": [],
   "source": [
    "#-*- coding:utf-8 -*-'\n",
    "import numpy as np\n",
    "import pandas as pd"
   ]
  },
  {
   "cell_type": "code",
   "execution_count": 2,
   "metadata": {},
   "outputs": [],
   "source": [
    "df = pd.read_csv('train_binary.csv')"
   ]
  },
  {
   "cell_type": "code",
   "execution_count": 3,
   "metadata": {},
   "outputs": [],
   "source": [
    "label = df.iloc[:,0].as_matrix()\n",
    "label[label == 0] = -1\n",
    "data = df.iloc[:,1:].as_matrix()\n",
    "data = np.insert(data, data.shape[1], 1.0, axis = 1)"
   ]
  },
  {
   "cell_type": "code",
   "execution_count": 4,
   "metadata": {},
   "outputs": [],
   "source": [
    "w = np.zeros(data.shape[1])\n",
    "dw = np.zeros_like(w)\n",
    "lr = 1e-6\n",
    "iter_cnt = 0\n",
    "max_iter_cnt = 1000\n",
    "while iter_cnt < max_iter_cnt:\n",
    "    idx = int(np.random.rand(1)*data.shape[0])\n",
    "    x = data[idx,:]\n",
    "    y = label[idx]\n",
    "    \n",
    "    score = np.dot(w,x)\n",
    "    L_i = max(0, 1-y*score)\n",
    "    if L_i > 0:\n",
    "        dw = -y*x\n",
    "        w -= lr*dw\n",
    "        iter_cnt+=1\n",
    "#         print('iter %d: loss = %f'%(iter_cnt, L_i))"
   ]
  },
  {
   "cell_type": "code",
   "execution_count": 5,
   "metadata": {},
   "outputs": [
    {
     "data": {
      "text/plain": [
       "0.98871428571428577"
      ]
     },
     "execution_count": 5,
     "metadata": {},
     "output_type": "execute_result"
    }
   ],
   "source": [
    "pred = np.dot(w,data.T)\n",
    "pred[pred>0] = 1\n",
    "pred[pred<0] = -1\n",
    "np.sum(pred == label)/label.shape[0]"
   ]
  },
  {
   "cell_type": "code",
   "execution_count": null,
   "metadata": {},
   "outputs": [],
   "source": []
  }
 ],
 "metadata": {
  "kernelspec": {
   "display_name": "Python 3.6",
   "language": "python",
   "name": "py36"
  },
  "language_info": {
   "codemirror_mode": {
    "name": "ipython",
    "version": 3
   },
   "file_extension": ".py",
   "mimetype": "text/x-python",
   "name": "python",
   "nbconvert_exporter": "python",
   "pygments_lexer": "ipython3",
   "version": "3.6.4"
  }
 },
 "nbformat": 4,
 "nbformat_minor": 2
}
