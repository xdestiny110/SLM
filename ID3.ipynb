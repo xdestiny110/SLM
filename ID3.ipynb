{
 "cells": [
  {
   "cell_type": "code",
   "execution_count": 1,
   "metadata": {},
   "outputs": [],
   "source": [
    "#-*- coding:utf-8 -*-'\n",
    "import numpy as np\n",
    "import pandas as pd\n",
    "from TreeNode import *"
   ]
  },
  {
   "cell_type": "code",
   "execution_count": 2,
   "metadata": {},
   "outputs": [],
   "source": [
    "df = pd.DataFrame(pd.read_csv('DecisionTree.csv'))\n",
    "map_Age = {'young':0,'middle-aged':1,'old':2}\n",
    "map_Work = map_House = map_Label = {'no':0,'yes':1}\n",
    "map_Loan = {'medium':0,'good':1,'excellent':2}\n",
    "df['Age'] = df['Age'].map(map_Age)\n",
    "df['Work'] = df['Work'].map(map_Work)\n",
    "df['House'] = df['House'].map(map_House)\n",
    "df['Loan'] = df['Loan'].map(map_Loan)\n",
    "df['Label'] = df['Label'].map(map_Label)\n",
    "\n",
    "data = df.iloc[:,1:-1].as_matrix()\n",
    "label = df.iloc[:,-1].as_matrix()\n",
    "label_cnt = len(map_Label)\n",
    "feature_cnts = [len(map_Age), len(map_Work), len(map_House), len(map_Loan)]"
   ]
  },
  {
   "cell_type": "code",
   "execution_count": 3,
   "metadata": {},
   "outputs": [],
   "source": [
    "def entropy(label):\n",
    "    sum = 0\n",
    "    for i in range(label_cnt):\n",
    "        if label.shape[0] == 0:\n",
    "            return 0\n",
    "        prop = len(label[label == i])/label.shape[0]\n",
    "        if prop == 0:\n",
    "            continue\n",
    "        sum += prop*np.log2(prop)\n",
    "    return -sum"
   ]
  },
  {
   "cell_type": "code",
   "execution_count": 4,
   "metadata": {},
   "outputs": [],
   "source": [
    "def infomation_gain(data, label):\n",
    "    H_D = entropy(label)\n",
    "    H_D_A = np.array([0.0 for _ in range(len(feature_cnts))])\n",
    "    H_A_D = np.array([0.0 for _ in range(len(feature_cnts))])\n",
    "    for i in range(len(feature_cnts)):\n",
    "        for j in range(feature_cnts[i]):\n",
    "            H_D_ij = entropy(label[data[:,i] == j])\n",
    "            H_D_A[i] += len(label[data[:,i] == j])*H_D_ij/label.shape[0]\n",
    "            p = len(label[data[:,i] == j])/label.shape[0]\n",
    "            if p == 0:\n",
    "                continue\n",
    "            H_A_D[i] += p*np.log2(p)\n",
    "    return H_D-H_D_A, -H_A_D"
   ]
  },
  {
   "cell_type": "code",
   "execution_count": 5,
   "metadata": {},
   "outputs": [],
   "source": [
    "def get_max_pre_prop(label):\n",
    "    prop = []\n",
    "    for i in range(label_cnt):\n",
    "        prop.append(len(label[label_cnt == i]))\n",
    "    return np.argmax(np.array(prop))"
   ]
  },
  {
   "cell_type": "code",
   "execution_count": 6,
   "metadata": {},
   "outputs": [],
   "source": [
    "ID3_root = DecisionTreeNode()\n",
    "ID3_root.train_data = data\n",
    "ID3_root.label = label\n",
    "ID3_root.data.append(get_max_pre_prop(label)) \n",
    "l = [ID3_root]\n",
    "\n",
    "while len(l) > 0:\n",
    "    current_node = l[0]\n",
    "    l.remove(current_node)\n",
    "#     print(current_node.train_data.shape)\n",
    "#     print(current_node.label.shape)\n",
    "#     print(current_node.train_data)\n",
    "#     print(current_node.label)\n",
    "#     print('===========')\n",
    "    if np.sum(current_node.label-current_node.label[0]) == 0:\n",
    "        # 表示可以作为叶节点\n",
    "        continue\n",
    "    g, _ = infomation_gain(current_node.train_data, current_node.label)\n",
    "    idx = np.argmax(g)\n",
    "    current_node.data.append(idx)\n",
    "    for i in range(feature_cnts[idx]):\n",
    "        node = DecisionTreeNode()\n",
    "        node.train_data = current_node.train_data[current_node.train_data[:,idx] == i]\n",
    "        node.label = current_node.label[current_node.train_data[:,idx] == i]\n",
    "        node.data.append(get_max_pre_prop(current_node.label[current_node.train_data[:,idx] == i]))\n",
    "        current_node.addChild(node)\n",
    "        l.append(node)"
   ]
  },
  {
   "cell_type": "code",
   "execution_count": 7,
   "metadata": {},
   "outputs": [
    {
     "name": "stdout",
     "output_type": "stream",
     "text": [
      "选择特征：2\n",
      "选择特征：1\n"
     ]
    }
   ],
   "source": [
    "ID3_root.visualize()"
   ]
  },
  {
   "cell_type": "code",
   "execution_count": null,
   "metadata": {},
   "outputs": [],
   "source": []
  }
 ],
 "metadata": {
  "kernelspec": {
   "display_name": "Python 3",
   "language": "python",
   "name": "python3"
  },
  "language_info": {
   "codemirror_mode": {
    "name": "ipython",
    "version": 3
   },
   "file_extension": ".py",
   "mimetype": "text/x-python",
   "name": "python",
   "nbconvert_exporter": "python",
   "pygments_lexer": "ipython3",
   "version": "3.6.4"
  }
 },
 "nbformat": 4,
 "nbformat_minor": 2
}
