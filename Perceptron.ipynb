{
 "cells": [
  {
   "cell_type": "code",
   "execution_count": 1,
   "metadata": {},
   "outputs": [],
   "source": [
    "#-*- coding:utf-8 -*-'\n",
    "import numpy as np"
   ]
  },
  {
   "cell_type": "code",
   "execution_count": 2,
   "metadata": {},
   "outputs": [],
   "source": [
    "# 输入样本\n",
    "data = np.matrix([[1,1],[2,2],[0,0]])\n",
    "label = np.array([1,1,-1])"
   ]
  },
  {
   "cell_type": "code",
   "execution_count": 3,
   "metadata": {},
   "outputs": [
    {
     "name": "stdout",
     "output_type": "stream",
     "text": [
      "[[ 1.]\n",
      " [ 1.]] -1\n"
     ]
    }
   ],
   "source": [
    "flag = False\n",
    "weight = np.zeros([data.shape[1],1])\n",
    "bias = 0\n",
    "learning_rate = 1\n",
    "while not flag:\n",
    "    flag = True\n",
    "    for i in range(data.shape[0]):\n",
    "        if (label[i]*(data[i]*weight+bias) <= 0).all():\n",
    "            weight += (learning_rate*label[i]*data[i]).T\n",
    "            bias += learning_rate*label[i]\n",
    "            flag = False\n",
    "            \n",
    "print(weight, bias)"
   ]
  },
  {
   "cell_type": "code",
   "execution_count": null,
   "metadata": {},
   "outputs": [],
   "source": []
  }
 ],
 "metadata": {
  "kernelspec": {
   "display_name": "Python 3.6",
   "language": "python",
   "name": "py36"
  },
  "language_info": {
   "codemirror_mode": {
    "name": "ipython",
    "version": 3
   },
   "file_extension": ".py",
   "mimetype": "text/x-python",
   "name": "python",
   "nbconvert_exporter": "python",
   "pygments_lexer": "ipython3",
   "version": "3.6.4"
  }
 },
 "nbformat": 4,
 "nbformat_minor": 2
}
