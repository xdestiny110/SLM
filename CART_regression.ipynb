{
 "cells": [
  {
   "cell_type": "code",
   "execution_count": 1,
   "metadata": {},
   "outputs": [],
   "source": [
    "#-*- coding:utf-8 -*-'\n",
    "import numpy as np\n",
    "import pandas as pd\n",
    "from TreeNode import *"
   ]
  },
  {
   "cell_type": "code",
   "execution_count": 2,
   "metadata": {},
   "outputs": [],
   "source": [
    "data_x = np.array([[float(x)] for x in range(1,11)])\n",
    "data_y = np.array([4.5, 4.75, 4.91, 5.34, 5.8, 7.05, 7.9, 8.23, 8.7, 9.0])"
   ]
  },
  {
   "cell_type": "code",
   "execution_count": 8,
   "metadata": {},
   "outputs": [],
   "source": [
    "def generate_split_data(data):\n",
    "    # 生成可能得切分点。排序后取相邻均值\n",
    "    clip = np.zeros((data.shape[0]-1, data.shape[1]))\n",
    "    for i in range(clip.shape[1]):\n",
    "        data[:,i].sort()\n",
    "        for j in range(clip.shape[0]):\n",
    "            clip[j,i] = (data[j,i]+data[j+1,i])/2\n",
    "    return clip"
   ]
  },
  {
   "cell_type": "code",
   "execution_count": 9,
   "metadata": {},
   "outputs": [],
   "source": [
    "max_depth = 3 # 回归树的深度\n",
    "root = RegressionTreeNode()\n",
    "root.train_data = data_x\n",
    "root.label = data_y\n",
    "root.data.append(np.mean(data_y))\n",
    "l = [root]\n",
    "\n",
    "while len(l) > 0:\n",
    "    current_node = l[0]\n",
    "    l.remove(current_node)\n",
    "    if current_node.depth >= max_depth:\n",
    "        continue\n",
    "        \n",
    "    # 依据当前训练集生成可能切分点\n",
    "    clip = generate_split_data(current_node.train_data)\n",
    "    min_s = None\n",
    "    min_c = None\n",
    "    min_idx = []\n",
    "    min_pred1 = None\n",
    "    min_pred2 = None\n",
    "    loss_min = 1000\n",
    "    # 暴力搜索特征\n",
    "    for s in range(clip.shape[1]):\n",
    "        # 暴力搜索切分点\n",
    "        for c in clip[:,s]:\n",
    "            idx = current_node.train_data[:,s] < c\n",
    "            pred1 = np.mean(current_node.label[idx])\n",
    "            pred2 = np.mean(current_node.label[~idx])\n",
    "            loss = np.sum((current_node.label[idx]-pred1)**2)+np.sum((current_node.label[~idx]-pred2)**2)\n",
    "            if loss < loss_min:\n",
    "                loss_min = loss\n",
    "                min_s = s\n",
    "                min_c = c\n",
    "                min_idx = idx\n",
    "                min_pred1 = pred1\n",
    "                min_pred2 = pred2\n",
    "    current_node.data.append(min_s)\n",
    "    current_node.data.append(min_c)\n",
    "    \n",
    "    node_left = RegressionTreeNode()\n",
    "    node_left.train_data = current_node.train_data[min_idx,:]\n",
    "    node_left.label = current_node.label[min_idx]\n",
    "    node_left.data.append(min_pred1)\n",
    "    current_node.addChild(node_left)\n",
    "    \n",
    "    node_right = RegressionTreeNode()\n",
    "    node_right.train_data = current_node.train_data[~min_idx,:]\n",
    "    node_right.label = current_node.label[~min_idx]\n",
    "    node_right.data.append(min_pred2)\n",
    "    current_node.addChild(node_right)\n",
    "    \n",
    "    l.append(node_left)\n",
    "    l.append(node_right)"
   ]
  },
  {
   "cell_type": "code",
   "execution_count": 7,
   "metadata": {},
   "outputs": [
    {
     "data": {
      "text/plain": [
       "[]"
      ]
     },
     "execution_count": 7,
     "metadata": {},
     "output_type": "execute_result"
    }
   ],
   "source": [
    "print(root.predict("
   ]
  },
  {
   "cell_type": "code",
   "execution_count": null,
   "metadata": {},
   "outputs": [],
   "source": []
  },
  {
   "cell_type": "code",
   "execution_count": null,
   "metadata": {},
   "outputs": [],
   "source": []
  }
 ],
 "metadata": {
  "kernelspec": {
   "display_name": "Python 3.6",
   "language": "python",
   "name": "py36"
  },
  "language_info": {
   "codemirror_mode": {
    "name": "ipython",
    "version": 3
   },
   "file_extension": ".py",
   "mimetype": "text/x-python",
   "name": "python",
   "nbconvert_exporter": "python",
   "pygments_lexer": "ipython3",
   "version": "3.6.4"
  }
 },
 "nbformat": 4,
 "nbformat_minor": 2
}
