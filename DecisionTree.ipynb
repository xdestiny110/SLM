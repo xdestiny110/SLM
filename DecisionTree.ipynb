{
 "cells": [
  {
   "cell_type": "code",
   "execution_count": 1,
   "metadata": {},
   "outputs": [],
   "source": [
    "#-*- coding:utf-8 -*-'\n",
    "import numpy as np\n",
    "import pandas as pd"
   ]
  },
  {
   "cell_type": "code",
   "execution_count": 9,
   "metadata": {},
   "outputs": [],
   "source": [
    "df = pd.DataFrame(pd.read_csv('DecisionTree.csv'))\n",
    "map_Age = {'young':0,'middle-aged':1,'old':2}\n",
    "map_Work = map_House = map_Label = {'no':0,'yes':1}\n",
    "map_Loan = {'medium':0,'good':1,'excellent':2}\n",
    "df['Age'] = df['Age'].map(map_Age)\n",
    "df['Work'] = df['Work'].map(map_Work)\n",
    "df['House'] = df['House'].map(map_House)\n",
    "df['Loan'] = df['Loan'].map(map_Loan)\n",
    "df['Label'] = df['Label'].map(map_Label)\n",
    "\n",
    "data = df.iloc[:,1:-1].as_matrix()\n",
    "label = df.iloc[:,-1].as_matrix()"
   ]
  },
  {
   "cell_type": "code",
   "execution_count": null,
   "metadata": {},
   "outputs": [],
   "source": []
  }
 ],
 "metadata": {
  "kernelspec": {
   "display_name": "Python 3.6",
   "language": "python",
   "name": "py36"
  },
  "language_info": {
   "codemirror_mode": {
    "name": "ipython",
    "version": 3
   },
   "file_extension": ".py",
   "mimetype": "text/x-python",
   "name": "python",
   "nbconvert_exporter": "python",
   "pygments_lexer": "ipython3",
   "version": "3.6.4"
  }
 },
 "nbformat": 4,
 "nbformat_minor": 2
}
