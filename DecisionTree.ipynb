{
 "cells": [
  {
   "cell_type": "code",
   "execution_count": 1,
   "metadata": {},
   "outputs": [],
   "source": [
    "#-*- coding:utf-8 -*-'\n",
    "import numpy as np\n",
    "import pandas as pd"
   ]
  },
  {
   "cell_type": "code",
   "execution_count": 2,
   "metadata": {},
   "outputs": [],
   "source": [
    "df = pd.DataFrame(pd.read_csv('DecisionTree.csv'))\n",
    "map_Age = {'young':0,'middle-aged':1,'old':2}\n",
    "map_Work = map_House = map_Label = {'no':0,'yes':1}\n",
    "map_Loan = {'medium':0,'good':1,'excellent':2}\n",
    "df['Age'] = df['Age'].map(map_Age)\n",
    "df['Work'] = df['Work'].map(map_Work)\n",
    "df['House'] = df['House'].map(map_House)\n",
    "df['Loan'] = df['Loan'].map(map_Loan)\n",
    "df['Label'] = df['Label'].map(map_Label)\n",
    "\n",
    "data = df.iloc[:,1:-1].as_matrix()\n",
    "label = df.iloc[:,-1].as_matrix()\n",
    "label_cnt = len(map_Label)\n",
    "feature_cnts = [len(map_Age), len(map_Work), len(map_House), len(map_Loan)]"
   ]
  },
  {
   "cell_type": "code",
   "execution_count": 3,
   "metadata": {},
   "outputs": [],
   "source": [
    "def entropy(label):\n",
    "    sum = 0\n",
    "    for i in range(label_cnt):\n",
    "        prop = len(label[label == i])/label.shape[0]\n",
    "        if prop == 0:\n",
    "            continue\n",
    "        sum += prop*np.log2(prop)\n",
    "    return -sum"
   ]
  },
  {
   "cell_type": "code",
   "execution_count": 4,
   "metadata": {},
   "outputs": [],
   "source": [
    "def infomation_gain(data, label):\n",
    "    H_D = entropy(label)\n",
    "    H_D_A = np.array([0.0 for _ in range(len(feature_cnts))])\n",
    "    for i in range(len(feature_cnts)):\n",
    "        for j in range(feature_cnts[i]):\n",
    "            H_D_ij = entropy(label[data[:,i] == j])\n",
    "            H_D_A[i] += len(label[data[:,i] == j])*H_D_ij/label.shape[0]\n",
    "    return H_D-H_D_A"
   ]
  },
  {
   "cell_type": "code",
   "execution_count": 5,
   "metadata": {},
   "outputs": [
    {
     "data": {
      "text/plain": [
       "array([0.0830075 , 0.3236502 , 0.41997309, 0.36298956])"
      ]
     },
     "execution_count": 5,
     "metadata": {},
     "output_type": "execute_result"
    }
   ],
   "source": [
    "infomation_gain(data, label)"
   ]
  },
  {
   "cell_type": "code",
   "execution_count": null,
   "metadata": {},
   "outputs": [],
   "source": []
  }
 ],
 "metadata": {
  "kernelspec": {
   "display_name": "Python 3",
   "language": "python",
   "name": "python3"
  },
  "language_info": {
   "codemirror_mode": {
    "name": "ipython",
    "version": 3
   },
   "file_extension": ".py",
   "mimetype": "text/x-python",
   "name": "python",
   "nbconvert_exporter": "python",
   "pygments_lexer": "ipython3",
   "version": "3.6.2"
  }
 },
 "nbformat": 4,
 "nbformat_minor": 2
}
