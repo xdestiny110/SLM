{
 "cells": [
  {
   "cell_type": "code",
   "execution_count": 13,
   "metadata": {},
   "outputs": [],
   "source": [
    "#-*- coding:utf-8 -*-'\n",
    "import numpy as np\n",
    "import pandas as pd"
   ]
  },
  {
   "cell_type": "code",
   "execution_count": 14,
   "metadata": {},
   "outputs": [],
   "source": [
    "df = pd.read_csv('train.csv')\n",
    "label_cnt = 10"
   ]
  },
  {
   "cell_type": "code",
   "execution_count": 15,
   "metadata": {},
   "outputs": [],
   "source": [
    "data = df.iloc[:,1:].as_matrix()\n",
    "data = np.insert(data, data.shape[1], 1.0, axis = 1)\n",
    "label = df.iloc[:,0].as_matrix()"
   ]
  },
  {
   "cell_type": "code",
   "execution_count": 35,
   "metadata": {},
   "outputs": [],
   "source": [
    "w = np.zeros((label_cnt, data.shape[1]))\n",
    "L = np.zeros(w.shape)\n",
    "lr = 1e-6\n",
    "max_iter_cnt = 1000\n",
    "iter_cnt = 0\n",
    "while iter_cnt < max_iter_cnt:\n",
    "    idx = int(np.random.rand(1)*data.shape[0])\n",
    "    x = data[idx,:]\n",
    "    y = label[idx]\n",
    "    \n",
    "    score = np.dot(w,x)\n",
    "    score -= np.max(score)\n",
    "    e_w_x = np.exp(score)\n",
    "    sum_e_w_x = np.sum(e_w_x)\n",
    "    L = -np.log(e_w_x[y]/sum_e_w_x)\n",
    "    dW = np.dot((e_w_x/sum_e_w_x).reshape(-1,1), x.reshape(1,-1))\n",
    "    dW[y,:] -= x\n",
    "    w -= lr*dW\n",
    "    iter_cnt+=1"
   ]
  },
  {
   "cell_type": "code",
   "execution_count": 36,
   "metadata": {},
   "outputs": [
    {
     "data": {
      "text/plain": [
       "0.17711904761904762"
      ]
     },
     "execution_count": 36,
     "metadata": {},
     "output_type": "execute_result"
    }
   ],
   "source": [
    "pred = np.dot(w,data.T)\n",
    "pred = np.argmax(pred, axis=0)\n",
    "print(np.sum(pred != label)/data.shape[0])"
   ]
  },
  {
   "cell_type": "code",
   "execution_count": null,
   "metadata": {},
   "outputs": [],
   "source": []
  }
 ],
 "metadata": {
  "kernelspec": {
   "display_name": "Python 3.6",
   "language": "python",
   "name": "py36"
  },
  "language_info": {
   "codemirror_mode": {
    "name": "ipython",
    "version": 3
   },
   "file_extension": ".py",
   "mimetype": "text/x-python",
   "name": "python",
   "nbconvert_exporter": "python",
   "pygments_lexer": "ipython3",
   "version": "3.6.4"
  }
 },
 "nbformat": 4,
 "nbformat_minor": 2
}
