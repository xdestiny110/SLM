{
 "cells": [
  {
   "cell_type": "code",
   "execution_count": 1,
   "metadata": {},
   "outputs": [],
   "source": [
    "#-*- coding:utf-8 -*-'\n",
    "import numpy as np\n",
    "import pandas as pd\n",
    "from TreeNode import *"
   ]
  },
  {
   "cell_type": "code",
   "execution_count": 2,
   "metadata": {},
   "outputs": [],
   "source": [
    "df = pd.DataFrame(pd.read_csv('DecisionTree.csv'))\n",
    "map_Age = {'young':0,'middle-aged':1,'old':2}\n",
    "map_Work = map_House = map_Label = {'no':0,'yes':1}\n",
    "map_Loan = {'medium':0,'good':1,'excellent':2}\n",
    "df['Age'] = df['Age'].map(map_Age)\n",
    "df['Work'] = df['Work'].map(map_Work)\n",
    "df['House'] = df['House'].map(map_House)\n",
    "df['Loan'] = df['Loan'].map(map_Loan)\n",
    "df['Label'] = df['Label'].map(map_Label)\n",
    "\n",
    "data = df.iloc[:,1:-1].as_matrix()\n",
    "label = df.iloc[:,-1].as_matrix()\n",
    "label_cnt = len(map_Label)\n",
    "feature_cnts = [len(map_Age), len(map_Work), len(map_House), len(map_Loan)]"
   ]
  },
  {
   "cell_type": "code",
   "execution_count": 3,
   "metadata": {},
   "outputs": [],
   "source": [
    "def gini(label):\n",
    "    g = 0\n",
    "    for i in range(label_cnt):\n",
    "        if len(label) == 0:\n",
    "            return 1\n",
    "        g += (len(label[label == i])/len(label))**2\n",
    "    return 1-g"
   ]
  },
  {
   "cell_type": "code",
   "execution_count": 4,
   "metadata": {},
   "outputs": [],
   "source": [
    "def gini_cond(data, label):\n",
    "    # 遍历每个特征可能的取值，求得最小的基尼系数\n",
    "    gini_cond = np.array([0.0 for _ in range(sum(feature_cnts))])\n",
    "    gini_cond_idx = []\n",
    "    for i in range(len(feature_cnts)):\n",
    "        for j in range(feature_cnts[i]):\n",
    "            gini_cond[sum(feature_cnts[0:i])+j] = \\\n",
    "                len(data[data[:,i] == j])/data.shape[0]*gini(label[data[:,i] == j]) + \\\n",
    "                len(data[data[:,i] != j])/data.shape[0]*gini(label[data[:,i] != j])\n",
    "            gini_cond_idx.append((i,j))\n",
    "    return gini_cond, gini_cond_idx"
   ]
  },
  {
   "cell_type": "code",
   "execution_count": 5,
   "metadata": {},
   "outputs": [],
   "source": [
    "def get_max_pre_prop(label):\n",
    "    prop = []\n",
    "    for i in range(label_cnt):\n",
    "        prop.append(len(label[label_cnt == i]))\n",
    "    return np.argmax(np.array(prop))"
   ]
  },
  {
   "cell_type": "code",
   "execution_count": 7,
   "metadata": {},
   "outputs": [],
   "source": [
    "CART_root = DecisionTreeNode()\n",
    "CART_root.train_data = data\n",
    "CART_root.label = label\n",
    "CART_root.data.append(get_max_pre_prop(label))\n",
    "l = [CART_root]\n",
    "\n",
    "while l!=[]:\n",
    "    current_node = l[0]\n",
    "    l.remove(l[0])\n",
    "    if np.sum(current_node.label-current_node.label[0]) == 0:\n",
    "        # 表示可以作为叶节点\n",
    "        continue\n",
    "    g, g_idx = gini_cond(current_node.train_data, current_node.label)\n",
    "    idx = np.argmin(g)\n",
    "    current_node.data.append(g_idx[idx])\n",
    "    \n",
    "    node = DecisionTreeNode()\n",
    "    arr_mask = current_node.train_data[:,g_idx[idx][0]] == g_idx[idx][1]\n",
    "    node.train_data = current_node.train_data[arr_mask]\n",
    "    node.label = current_node.label[arr_mask]\n",
    "    node.data.append(get_max_pre_prop(node.label))\n",
    "    current_node.addChild(node)\n",
    "    l.append(node)\n",
    "    \n",
    "    node = DecisionTreeNode()\n",
    "    arr_mask = ~arr_mask\n",
    "    node.train_data = current_node.train_data[arr_mask]\n",
    "    node.label = current_node.label[arr_mask]\n",
    "    node.data.append(get_max_pre_prop(node.label))\n",
    "    current_node.addChild(node)\n",
    "    l.append(node)  \n",
    "#     print(current_node.train_data.shape)\n",
    "#     print(current_node.label.shape)\n",
    "#     print(current_node.train_data)\n",
    "#     print(current_node.label)\n",
    "#     print(g)\n",
    "#     print('select %s'%(str(g_idx[idx])))\n",
    "#     print('===========')"
   ]
  },
  {
   "cell_type": "code",
   "execution_count": 8,
   "metadata": {},
   "outputs": [
    {
     "name": "stdout",
     "output_type": "stream",
     "text": [
      "选择特征：(2, 0)\n",
      "选择特征：(1, 0)\n"
     ]
    }
   ],
   "source": [
    "CART_root.visualize()"
   ]
  },
  {
   "cell_type": "code",
   "execution_count": null,
   "metadata": {},
   "outputs": [],
   "source": []
  }
 ],
 "metadata": {
  "kernelspec": {
   "display_name": "Python 3.6",
   "language": "python",
   "name": "py36"
  },
  "language_info": {
   "codemirror_mode": {
    "name": "ipython",
    "version": 3
   },
   "file_extension": ".py",
   "mimetype": "text/x-python",
   "name": "python",
   "nbconvert_exporter": "python",
   "pygments_lexer": "ipython3",
   "version": "3.6.4"
  }
 },
 "nbformat": 4,
 "nbformat_minor": 2
}
