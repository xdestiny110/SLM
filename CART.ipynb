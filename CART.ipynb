{
 "cells": [
  {
   "cell_type": "code",
   "execution_count": 1,
   "metadata": {},
   "outputs": [],
   "source": [
    "#-*- coding:utf-8 -*-'\n",
    "import numpy as np\n",
    "import pandas as pd\n",
    "from TreeNode import *"
   ]
  },
  {
   "cell_type": "code",
   "execution_count": 2,
   "metadata": {},
   "outputs": [],
   "source": [
    "df = pd.DataFrame(pd.read_csv('DecisionTree.csv'))\n",
    "map_Age = {'young':0,'middle-aged':1,'old':2}\n",
    "map_Work = map_House = map_Label = {'no':0,'yes':1}\n",
    "map_Loan = {'medium':0,'good':1,'excellent':2}\n",
    "df['Age'] = df['Age'].map(map_Age)\n",
    "df['Work'] = df['Work'].map(map_Work)\n",
    "df['House'] = df['House'].map(map_House)\n",
    "df['Loan'] = df['Loan'].map(map_Loan)\n",
    "df['Label'] = df['Label'].map(map_Label)\n",
    "\n",
    "data = df.iloc[:,1:-1].as_matrix()\n",
    "label = df.iloc[:,-1].as_matrix()\n",
    "label_cnt = len(map_Label)\n",
    "feature_cnts = [len(map_Age), len(map_Work), len(map_House), len(map_Loan)]"
   ]
  },
  {
   "cell_type": "code",
   "execution_count": 3,
   "metadata": {},
   "outputs": [],
   "source": [
    "def gini(label):\n",
    "    g = 0\n",
    "    for i in range(label_cnt):\n",
    "        g += (len(label[label == i])/len(label))**2\n",
    "    return 1-g"
   ]
  },
  {
   "cell_type": "code",
   "execution_count": 10,
   "metadata": {},
   "outputs": [],
   "source": [
    "def gini_cond(data, label):\n",
    "    # 遍历每个特征可能的取值，求得最小的基尼系数\n",
    "    gini_cond = np.array([0.0 for _ in range(sum(feature_cnts))])\n",
    "    for i in range(len(feature_cnts)):\n",
    "        for j in range(feature_cnts[i]):\n",
    "            gini_cond[sum(feature_cnts[0:i])+j] = \\\n",
    "                len(data[data[:,i] == j])/data.shape[0]*gini(label[data[:,i] == j]) + \\\n",
    "                len(data[data[:,i] != j])/data.shape[0]*gini(label[data[:,i] != j])\n",
    "    return gini_cond"
   ]
  },
  {
   "cell_type": "code",
   "execution_count": 11,
   "metadata": {},
   "outputs": [
    {
     "data": {
      "text/plain": [
       "array([ 0.44      ,  0.48      ,  0.44      ,  0.32      ,  0.32      ,\n",
       "        0.26666667,  0.26666667,  0.32      ,  0.47407407,  0.36363636])"
      ]
     },
     "execution_count": 11,
     "metadata": {},
     "output_type": "execute_result"
    }
   ],
   "source": [
    "gini_cond(data, label)"
   ]
  },
  {
   "cell_type": "code",
   "execution_count": null,
   "metadata": {},
   "outputs": [],
   "source": []
  }
 ],
 "metadata": {
  "kernelspec": {
   "display_name": "Python 3.6",
   "language": "python",
   "name": "py36"
  },
  "language_info": {
   "codemirror_mode": {
    "name": "ipython",
    "version": 3
   },
   "file_extension": ".py",
   "mimetype": "text/x-python",
   "name": "python",
   "nbconvert_exporter": "python",
   "pygments_lexer": "ipython3",
   "version": "3.6.4"
  }
 },
 "nbformat": 4,
 "nbformat_minor": 2
}
