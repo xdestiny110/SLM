{
 "cells": [
  {
   "cell_type": "code",
   "execution_count": 1,
   "metadata": {},
   "outputs": [],
   "source": [
    "#-*- coding:utf-8 -*-'\n",
    "import numpy as np\n",
    "import pandas as pd"
   ]
  },
  {
   "cell_type": "code",
   "execution_count": 16,
   "metadata": {},
   "outputs": [],
   "source": [
    "class weak_model:\n",
    "    def __init__(self):\n",
    "        self.w = None\n",
    "        self.alpha = 0.0\n",
    "    def predict(self, x):\n",
    "        return ((x <= self.w)*2-1)\n",
    "    def train(self):\n",
    "        # 找出误差率最小的情况\n",
    "        loss_min = 1000\n",
    "        c_min = None\n",
    "        for c in data_x:\n",
    "            pred = (data_x <= c)*2-1\n",
    "            loss = np.sum((pred != label)*data_weight)\n",
    "            if loss < loss_min:\n",
    "                loss_min = loss\n",
    "                c_min = c\n",
    "        self.w = c_min\n",
    "        self.alpha = 0.5*np.log((1-loss_min)/loss_min)"
   ]
  },
  {
   "cell_type": "code",
   "execution_count": 17,
   "metadata": {},
   "outputs": [],
   "source": [
    "data_x = np.arange(10)\n",
    "data_weight = np.ones(data_x.shape[0])/data_x.shape[0]\n",
    "label = np.array([1,1,1,-1,-1,-1,1,1,1,-1])\n",
    "max_model_cnt = 3 # 模型最大个数\n",
    "models = [weak_model() for _ in range(max_model_cnt)]\n",
    "\n",
    "for i in range(len(models)):\n",
    "    models[i].train()\n",
    "    pred = models[i].predict(data_x)\n",
    "    data_weight_tmp = data_weight*np.exp(-models[i].alpha*pred*label)\n",
    "    data_weight = data_weight_tmp / np.sum(data_weight_tmp)"
   ]
  },
  {
   "cell_type": "code",
   "execution_count": 18,
   "metadata": {},
   "outputs": [
    {
     "name": "stdout",
     "output_type": "stream",
     "text": [
      "2\n",
      "8\n",
      "2\n"
     ]
    }
   ],
   "source": [
    "for m in models:\n",
    "    print(m.w)"
   ]
  },
  {
   "cell_type": "code",
   "execution_count": null,
   "metadata": {},
   "outputs": [],
   "source": []
  }
 ],
 "metadata": {
  "kernelspec": {
   "display_name": "Python 3.6",
   "language": "python",
   "name": "py36"
  },
  "language_info": {
   "codemirror_mode": {
    "name": "ipython",
    "version": 3
   },
   "file_extension": ".py",
   "mimetype": "text/x-python",
   "name": "python",
   "nbconvert_exporter": "python",
   "pygments_lexer": "ipython3",
   "version": "3.6.4"
  }
 },
 "nbformat": 4,
 "nbformat_minor": 2
}
